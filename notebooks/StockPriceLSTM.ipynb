{
  "nbformat": 4,
  "nbformat_minor": 0,
  "metadata": {
    "colab": {
      "name": "StockPriceLSTM.ipynb",
      "provenance": []
    },
    "kernelspec": {
      "name": "python3",
      "display_name": "Python 3"
    },
    "language_info": {
      "name": "python"
    }
  },
  "cells": [
    {
      "cell_type": "code",
      "metadata": {
        "colab": {
          "base_uri": "https://localhost:8080/"
        },
        "id": "iRooNu-IKJXa",
        "outputId": "b9cfd87a-7c71-46d7-c6f6-32d73763d2e7"
      },
      "source": [
        "! pip install yfinance "
      ],
      "execution_count": 2,
      "outputs": [
        {
          "output_type": "stream",
          "name": "stdout",
          "text": [
            "Collecting yfinance\n",
            "  Downloading yfinance-0.1.67-py2.py3-none-any.whl (25 kB)\n",
            "Requirement already satisfied: multitasking>=0.0.7 in /usr/local/lib/python3.7/dist-packages (from yfinance) (0.0.10)\n",
            "Requirement already satisfied: numpy>=1.15 in /usr/local/lib/python3.7/dist-packages (from yfinance) (1.19.5)\n",
            "Requirement already satisfied: requests>=2.20 in /usr/local/lib/python3.7/dist-packages (from yfinance) (2.23.0)\n",
            "Requirement already satisfied: pandas>=0.24 in /usr/local/lib/python3.7/dist-packages (from yfinance) (1.1.5)\n",
            "Collecting lxml>=4.5.1\n",
            "  Downloading lxml-4.6.4-cp37-cp37m-manylinux_2_17_x86_64.manylinux2014_x86_64.manylinux_2_24_x86_64.whl (6.3 MB)\n",
            "\u001b[K     |████████████████████████████████| 6.3 MB 6.2 MB/s \n",
            "\u001b[?25hRequirement already satisfied: python-dateutil>=2.7.3 in /usr/local/lib/python3.7/dist-packages (from pandas>=0.24->yfinance) (2.8.2)\n",
            "Requirement already satisfied: pytz>=2017.2 in /usr/local/lib/python3.7/dist-packages (from pandas>=0.24->yfinance) (2018.9)\n",
            "Requirement already satisfied: six>=1.5 in /usr/local/lib/python3.7/dist-packages (from python-dateutil>=2.7.3->pandas>=0.24->yfinance) (1.15.0)\n",
            "Requirement already satisfied: certifi>=2017.4.17 in /usr/local/lib/python3.7/dist-packages (from requests>=2.20->yfinance) (2021.10.8)\n",
            "Requirement already satisfied: chardet<4,>=3.0.2 in /usr/local/lib/python3.7/dist-packages (from requests>=2.20->yfinance) (3.0.4)\n",
            "Requirement already satisfied: idna<3,>=2.5 in /usr/local/lib/python3.7/dist-packages (from requests>=2.20->yfinance) (2.10)\n",
            "Requirement already satisfied: urllib3!=1.25.0,!=1.25.1,<1.26,>=1.21.1 in /usr/local/lib/python3.7/dist-packages (from requests>=2.20->yfinance) (1.24.3)\n",
            "Installing collected packages: lxml, yfinance\n",
            "  Attempting uninstall: lxml\n",
            "    Found existing installation: lxml 4.2.6\n",
            "    Uninstalling lxml-4.2.6:\n",
            "      Successfully uninstalled lxml-4.2.6\n",
            "Successfully installed lxml-4.6.4 yfinance-0.1.67\n"
          ]
        }
      ]
    },
    {
      "cell_type": "code",
      "metadata": {
        "colab": {
          "base_uri": "https://localhost:8080/"
        },
        "id": "ENV6L8b-J0gA",
        "outputId": "0af0febc-42c5-4668-d01b-8ba4a7e62845"
      },
      "source": [
        "import pandas as pd\n",
        "import yfinance as yf\n",
        "data_stock = yf.download(  # or pdr.get_data_yahoo(...\n",
        "        # tickers list or string as well\n",
        "        tickers = \"AAPL\",\n",
        "\n",
        "        # use \"period\" instead of start/end\n",
        "        # valid periods: 1d,5d,1mo,3mo,6mo,1y,2y,5y,10y,ytd,max\n",
        "        # (optional, default is '1mo')\n",
        "        period = \"max\",\n",
        "\n",
        "        # fetch data by interval (including intraday if period < 60 days)\n",
        "        # valid intervals: 1m,2m,5m,15m,30m,60m,90m,1h,1d,5d,1wk,1mo,3mo\n",
        "        # (optional, default is '1d')\n",
        "        interval = \"1d\",\n",
        "\n",
        "        # group by ticker (to access via data['SPY'])\n",
        "        # (optional, default is 'column')\n",
        "        group_by = 'ticker',\n",
        "\n",
        "        # adjust all OHLC automatically\n",
        "        # (optional, default is False)\n",
        "        auto_adjust = True,\n",
        "\n",
        "        # download pre/post regular market hours data\n",
        "        # (optional, default is False)\n",
        "        prepost = True,\n",
        "\n",
        "        # use threads for mass downloading? (True/False/Integer)\n",
        "        # (optional, default is True)\n",
        "        threads = True,\n",
        "\n",
        "        # proxy URL scheme use use when downloading?\n",
        "        # (optional, default is None)\n",
        "        proxy = None\n",
        "    )"
      ],
      "execution_count": 3,
      "outputs": [
        {
          "output_type": "stream",
          "name": "stdout",
          "text": [
            "\r[*********************100%***********************]  1 of 1 completed\n"
          ]
        }
      ]
    },
    {
      "cell_type": "code",
      "metadata": {
        "colab": {
          "base_uri": "https://localhost:8080/"
        },
        "id": "PYf6rjB6KQfV",
        "outputId": "ddd895fd-b805-40a9-fc42-c5e6ccd141ad"
      },
      "source": [
        "data_stock.info()\n",
        "data_aapl = data_stock.loc[~data_stock.index.duplicated(keep='last')]\n",
        "data_aapl.dropna(inplace=True)"
      ],
      "execution_count": 4,
      "outputs": [
        {
          "output_type": "stream",
          "name": "stdout",
          "text": [
            "<class 'pandas.core.frame.DataFrame'>\n",
            "DatetimeIndex: 10332 entries, 1980-12-12 to 2021-12-02\n",
            "Data columns (total 5 columns):\n",
            " #   Column  Non-Null Count  Dtype  \n",
            "---  ------  --------------  -----  \n",
            " 0   Open    10332 non-null  float64\n",
            " 1   High    10332 non-null  float64\n",
            " 2   Low     10332 non-null  float64\n",
            " 3   Close   10332 non-null  float64\n",
            " 4   Volume  10332 non-null  int64  \n",
            "dtypes: float64(4), int64(1)\n",
            "memory usage: 484.3 KB\n"
          ]
        }
      ]
    },
    {
      "cell_type": "code",
      "metadata": {
        "colab": {
          "base_uri": "https://localhost:8080/"
        },
        "id": "jPXU0ZP4KXhq",
        "outputId": "322bb5cf-4650-4131-ea44-943fd5a790b5"
      },
      "source": [
        "print(data_aapl.info())"
      ],
      "execution_count": 5,
      "outputs": [
        {
          "output_type": "stream",
          "name": "stdout",
          "text": [
            "<class 'pandas.core.frame.DataFrame'>\n",
            "DatetimeIndex: 10332 entries, 1980-12-12 to 2021-12-02\n",
            "Data columns (total 5 columns):\n",
            " #   Column  Non-Null Count  Dtype  \n",
            "---  ------  --------------  -----  \n",
            " 0   Open    10332 non-null  float64\n",
            " 1   High    10332 non-null  float64\n",
            " 2   Low     10332 non-null  float64\n",
            " 3   Close   10332 non-null  float64\n",
            " 4   Volume  10332 non-null  int64  \n",
            "dtypes: float64(4), int64(1)\n",
            "memory usage: 484.3 KB\n",
            "None\n"
          ]
        }
      ]
    },
    {
      "cell_type": "code",
      "metadata": {
        "id": "sq3_2IGOKbYM"
      },
      "source": [
        "import pandas as pd\n",
        "import numpy as np\n",
        "\n",
        "import matplotlib.pyplot as plt\n",
        "import seaborn as sns\n",
        "sns.set_style('whitegrid')\n",
        "plt.style.use(\"fivethirtyeight\")\n",
        "%matplotlib inline\n",
        "\n",
        "# For reading stock data from yahoo\n",
        "#from pandas_datareader.data import DataReader\n",
        "\n",
        "# For time stamps\n",
        "from datetime import datetime"
      ],
      "execution_count": 6,
      "outputs": []
    },
    {
      "cell_type": "code",
      "metadata": {
        "id": "zHAKK5DyKf7C"
      },
      "source": [
        "ma_day = [10, 20, 50]\n",
        "\n",
        "for ma in ma_day:\n",
        "    column_name = f\"MA for {ma} days\"\n",
        "    data_aapl[column_name] = data_aapl['Close'].rolling(ma).mean()"
      ],
      "execution_count": 7,
      "outputs": []
    },
    {
      "cell_type": "code",
      "metadata": {
        "colab": {
          "base_uri": "https://localhost:8080/"
        },
        "id": "ER1atta-KlQ2",
        "outputId": "ac60b030-6bda-42bf-95b2-a8367ec615e1"
      },
      "source": [
        "data = data_aapl.filter(['Close'])\n",
        "# Convert the dataframe to a numpy array\n",
        "dataset = data.values\n",
        "# Get the number of rows to train the model on\n",
        "training_data_len = int(np.ceil( len(dataset) * .95 ))\n",
        "\n",
        "training_data_len"
      ],
      "execution_count": 8,
      "outputs": [
        {
          "output_type": "execute_result",
          "data": {
            "text/plain": [
              "9816"
            ]
          },
          "metadata": {},
          "execution_count": 8
        }
      ]
    },
    {
      "cell_type": "code",
      "metadata": {
        "colab": {
          "base_uri": "https://localhost:8080/"
        },
        "id": "-7GMQ34fKqV0",
        "outputId": "184cf7d5-af68-4543-cf03-0225544fa15c"
      },
      "source": [
        "from sklearn.preprocessing import MinMaxScaler\n",
        "\n",
        "scaler = MinMaxScaler(feature_range=(0,1))\n",
        "scaled_data = scaler.fit_transform(dataset)\n",
        "\n",
        "scaled_data"
      ],
      "execution_count": 9,
      "outputs": [
        {
          "output_type": "execute_result",
          "data": {
            "text/plain": [
              "array([[3.75278567e-04],\n",
              "       [3.43567013e-04],\n",
              "       [3.01280027e-04],\n",
              "       ...,\n",
              "       [1.00000000e+00],\n",
              "       [9.96792970e-01],\n",
              "       [9.90681387e-01]])"
            ]
          },
          "metadata": {},
          "execution_count": 9
        }
      ]
    },
    {
      "cell_type": "code",
      "metadata": {
        "colab": {
          "base_uri": "https://localhost:8080/"
        },
        "id": "b1GGnyNkKtgw",
        "outputId": "fa928e54-9c35-4537-f098-8de557a281d2"
      },
      "source": [
        "# Create the training data set \n",
        "# Create the scaled training data set\n",
        "train_data = scaled_data[0:int(training_data_len), :]\n",
        "# Split the data into x_train and y_train data sets\n",
        "x_train = []\n",
        "y_train = []\n",
        "\n",
        "for i in range(60, len(train_data)):\n",
        "    x_train.append(train_data[i-60:i, 0])\n",
        "    y_train.append(train_data[i, 0])\n",
        "    if i<= 61:\n",
        "        print(x_train)\n",
        "        print(y_train)\n",
        "        print()\n",
        "        \n",
        "# Convert the x_train and y_train to numpy arrays \n",
        "x_train, y_train = np.array(x_train), np.array(y_train)\n",
        "\n",
        "# Reshape the data\n",
        "x_train = np.reshape(x_train, (x_train.shape[0], x_train.shape[1], 1))\n",
        "# x_train.shape"
      ],
      "execution_count": 10,
      "outputs": [
        {
          "output_type": "stream",
          "name": "stdout",
          "text": [
            "[array([0.00037528, 0.00034357, 0.00030128, 0.00031449, 0.00033035,\n",
            "       0.00036471, 0.00039378, 0.00042021, 0.00045456, 0.00051799,\n",
            "       0.00052856, 0.00051006, 0.00048892, 0.00049685, 0.00048099,\n",
            "       0.00044928, 0.00042021, 0.000407  , 0.00044135, 0.00043606,\n",
            "       0.00041228, 0.00041492, 0.00042814, 0.00042285, 0.00046249,\n",
            "       0.00044135, 0.00045456, 0.00046249, 0.00045985, 0.00044928,\n",
            "       0.00044399, 0.00042285, 0.00039907, 0.00036471, 0.00033035,\n",
            "       0.0003515 , 0.00037264, 0.00037264, 0.00037528, 0.00034357,\n",
            "       0.00034357, 0.00032507, 0.00031978, 0.00030657, 0.00031978,\n",
            "       0.00034357, 0.00030921, 0.00028014, 0.00028807, 0.00026957,\n",
            "       0.00030128, 0.00030921, 0.00032771, 0.00033035, 0.00032243,\n",
            "       0.00031714, 0.00031449, 0.00030921, 0.00026693, 0.00024314])]\n",
            "[0.00022463868844680126]\n",
            "\n",
            "[array([0.00037528, 0.00034357, 0.00030128, 0.00031449, 0.00033035,\n",
            "       0.00036471, 0.00039378, 0.00042021, 0.00045456, 0.00051799,\n",
            "       0.00052856, 0.00051006, 0.00048892, 0.00049685, 0.00048099,\n",
            "       0.00044928, 0.00042021, 0.000407  , 0.00044135, 0.00043606,\n",
            "       0.00041228, 0.00041492, 0.00042814, 0.00042285, 0.00046249,\n",
            "       0.00044135, 0.00045456, 0.00046249, 0.00045985, 0.00044928,\n",
            "       0.00044399, 0.00042285, 0.00039907, 0.00036471, 0.00033035,\n",
            "       0.0003515 , 0.00037264, 0.00037264, 0.00037528, 0.00034357,\n",
            "       0.00034357, 0.00032507, 0.00031978, 0.00030657, 0.00031978,\n",
            "       0.00034357, 0.00030921, 0.00028014, 0.00028807, 0.00026957,\n",
            "       0.00030128, 0.00030921, 0.00032771, 0.00033035, 0.00032243,\n",
            "       0.00031714, 0.00031449, 0.00030921, 0.00026693, 0.00024314]), array([0.00034357, 0.00030128, 0.00031449, 0.00033035, 0.00036471,\n",
            "       0.00039378, 0.00042021, 0.00045456, 0.00051799, 0.00052856,\n",
            "       0.00051006, 0.00048892, 0.00049685, 0.00048099, 0.00044928,\n",
            "       0.00042021, 0.000407  , 0.00044135, 0.00043606, 0.00041228,\n",
            "       0.00041492, 0.00042814, 0.00042285, 0.00046249, 0.00044135,\n",
            "       0.00045456, 0.00046249, 0.00045985, 0.00044928, 0.00044399,\n",
            "       0.00042285, 0.00039907, 0.00036471, 0.00033035, 0.0003515 ,\n",
            "       0.00037264, 0.00037264, 0.00037528, 0.00034357, 0.00034357,\n",
            "       0.00032507, 0.00031978, 0.00030657, 0.00031978, 0.00034357,\n",
            "       0.00030921, 0.00028014, 0.00028807, 0.00026957, 0.00030128,\n",
            "       0.00030921, 0.00032771, 0.00033035, 0.00032243, 0.00031714,\n",
            "       0.00031449, 0.00030921, 0.00026693, 0.00024314, 0.00022464])]\n",
            "[0.00022463868844680126, 0.00024313710613998814]\n",
            "\n"
          ]
        }
      ]
    },
    {
      "cell_type": "code",
      "metadata": {
        "colab": {
          "base_uri": "https://localhost:8080/"
        },
        "id": "lBeOxIpGKv9s",
        "outputId": "556e4c13-5f99-4d99-d94d-b925c0fac727"
      },
      "source": [
        "#from tensorflow import keras \n",
        "from keras.models import Sequential\n",
        "from keras.layers import Dense, LSTM\n",
        "\n",
        "# Build the LSTM model\n",
        "model = Sequential()\n",
        "model.add(LSTM(128, return_sequences=True, input_shape= (x_train.shape[1], 1)))\n",
        "model.add(LSTM(64, return_sequences=False))\n",
        "model.add(Dense(25))\n",
        "model.add(Dense(1))\n",
        "\n",
        "# Compile the model\n",
        "model.compile(optimizer='adam', loss='mean_squared_error')\n",
        "\n",
        "# Train the model\n",
        "model.fit(x_train, y_train, batch_size=1, epochs=1)"
      ],
      "execution_count": 11,
      "outputs": [
        {
          "output_type": "stream",
          "name": "stdout",
          "text": [
            "9756/9756 [==============================] - 335s 34ms/step - loss: 9.1107e-05\n"
          ]
        },
        {
          "output_type": "execute_result",
          "data": {
            "text/plain": [
              "<keras.callbacks.History at 0x7f85e7371310>"
            ]
          },
          "metadata": {},
          "execution_count": 11
        }
      ]
    },
    {
      "cell_type": "code",
      "metadata": {
        "colab": {
          "base_uri": "https://localhost:8080/"
        },
        "id": "aNNvax9sMO2z",
        "outputId": "f6520cd5-725b-4caa-eed1-d8e5d09a7bf3"
      },
      "source": [
        "# Create the testing data set\n",
        "# Create a new array containing scaled values from index 1543 to 2002 \n",
        "test_data = scaled_data[training_data_len - 60: , :]\n",
        "# Create the data sets x_test and y_test\n",
        "x_test = []\n",
        "y_test = dataset[training_data_len:, :]\n",
        "for i in range(60, len(test_data)):\n",
        "    x_test.append(test_data[i-60:i, 0])\n",
        "    \n",
        "# Convert the data to a numpy array\n",
        "x_test = np.array(x_test)\n",
        "\n",
        "# Reshape the data\n",
        "x_test = np.reshape(x_test, (x_test.shape[0], x_test.shape[1], 1 ))\n",
        "\n",
        "# Get the models predicted price values \n",
        "predictions = model.predict(x_test)\n",
        "predictions = scaler.inverse_transform(predictions)\n",
        "\n",
        "# Get the root mean squared error (RMSE)\n",
        "rmse = np.sqrt(np.mean(((predictions - y_test) ** 2)))\n",
        "rmse"
      ],
      "execution_count": 12,
      "outputs": [
        {
          "output_type": "execute_result",
          "data": {
            "text/plain": [
              "11.804410180099804"
            ]
          },
          "metadata": {},
          "execution_count": 12
        }
      ]
    },
    {
      "cell_type": "code",
      "metadata": {
        "colab": {
          "base_uri": "https://localhost:8080/",
          "height": 514
        },
        "id": "v-RIEgBKMUl4",
        "outputId": "47fe5ced-0335-403b-f68c-3259ce8b89b3"
      },
      "source": [
        "# Plot the data\n",
        "train = data[:training_data_len]\n",
        "valid = data[training_data_len:]\n",
        "valid['Predictions'] = predictions\n",
        "# Visualize the data\n",
        "plt.figure(figsize=(16,6))\n",
        "plt.title('Model')\n",
        "plt.xlabel('Date', fontsize=18)\n",
        "plt.ylabel('Close Price USD ($)', fontsize=18)\n",
        "plt.plot(train['Close'])\n",
        "plt.plot(valid[['Close', 'Predictions']])\n",
        "plt.legend(['Train', 'Val', 'Predictions'], loc='lower right')\n",
        "plt.show()"
      ],
      "execution_count": 13,
      "outputs": [
        {
          "output_type": "stream",
          "name": "stderr",
          "text": [
            "/usr/local/lib/python3.7/dist-packages/ipykernel_launcher.py:4: SettingWithCopyWarning: \n",
            "A value is trying to be set on a copy of a slice from a DataFrame.\n",
            "Try using .loc[row_indexer,col_indexer] = value instead\n",
            "\n",
            "See the caveats in the documentation: https://pandas.pydata.org/pandas-docs/stable/user_guide/indexing.html#returning-a-view-versus-a-copy\n",
            "  after removing the cwd from sys.path.\n"
          ]
        },
        {
          "output_type": "display_data",
          "data": {
            "image/png": "[encoded data removed]",
            "text/plain": [
              "<Figure size 1152x432 with 1 Axes>"
            ]
          },
          "metadata": {
            "needs_background": "light"
          }
        }
      ]
    },
    {
      "cell_type": "code",
      "metadata": {
        "colab": {
          "base_uri": "https://localhost:8080/",
          "height": 455
        },
        "id": "kEWaHSZWMeal",
        "outputId": "54c3c34b-f2d9-484d-b460-88b21918457a"
      },
      "source": [
        "valid"
      ],
      "execution_count": 14,
      "outputs": [
        {
          "output_type": "execute_result",
          "data": {
            "text/html": [
              "<div>\n",
              "<style scoped>\n",
              "    .dataframe tbody tr th:only-of-type {\n",
              "        vertical-align: middle;\n",
              "    }\n",
              "\n",
              "    .dataframe tbody tr th {\n",
              "        vertical-align: top;\n",
              "    }\n",
              "\n",
              "    .dataframe thead th {\n",
              "        text-align: right;\n",
              "    }\n",
              "</style>\n",
              "<table border=\"1\" class=\"dataframe\">\n",
              "  <thead>\n",
              "    <tr style=\"text-align: right;\">\n",
              "      <th></th>\n",
              "      <th>Close</th>\n",
              "      <th>Predictions</th>\n",
              "    </tr>\n",
              "    <tr>\n",
              "      <th>Date</th>\n",
              "      <th></th>\n",
              "      <th></th>\n",
              "    </tr>\n",
              "  </thead>\n",
              "  <tbody>\n",
              "    <tr>\n",
              "      <th>2019-11-15</th>\n",
              "      <td>65.467537</td>\n",
              "      <td>62.464836</td>\n",
              "    </tr>\n",
              "    <tr>\n",
              "      <th>2019-11-18</th>\n",
              "      <td>65.797638</td>\n",
              "      <td>62.733017</td>\n",
              "    </tr>\n",
              "    <tr>\n",
              "      <th>2019-11-19</th>\n",
              "      <td>65.598106</td>\n",
              "      <td>63.056992</td>\n",
              "    </tr>\n",
              "    <tr>\n",
              "      <th>2019-11-20</th>\n",
              "      <td>64.834450</td>\n",
              "      <td>63.194569</td>\n",
              "    </tr>\n",
              "    <tr>\n",
              "      <th>2019-11-21</th>\n",
              "      <td>64.543762</td>\n",
              "      <td>62.968155</td>\n",
              "    </tr>\n",
              "    <tr>\n",
              "      <th>...</th>\n",
              "      <td>...</td>\n",
              "      <td>...</td>\n",
              "    </tr>\n",
              "    <tr>\n",
              "      <th>2021-11-26</th>\n",
              "      <td>156.809998</td>\n",
              "      <td>140.006470</td>\n",
              "    </tr>\n",
              "    <tr>\n",
              "      <th>2021-11-29</th>\n",
              "      <td>160.240005</td>\n",
              "      <td>138.575684</td>\n",
              "    </tr>\n",
              "    <tr>\n",
              "      <th>2021-11-30</th>\n",
              "      <td>165.300003</td>\n",
              "      <td>138.553131</td>\n",
              "    </tr>\n",
              "    <tr>\n",
              "      <th>2021-12-01</th>\n",
              "      <td>164.770004</td>\n",
              "      <td>140.348785</td>\n",
              "    </tr>\n",
              "    <tr>\n",
              "      <th>2021-12-02</th>\n",
              "      <td>163.759995</td>\n",
              "      <td>141.525162</td>\n",
              "    </tr>\n",
              "  </tbody>\n",
              "</table>\n",
              "<p>516 rows × 2 columns</p>\n",
              "</div>"
            ],
            "text/plain": [
              "                 Close  Predictions\n",
              "Date                               \n",
              "2019-11-15   65.467537    62.464836\n",
              "2019-11-18   65.797638    62.733017\n",
              "2019-11-19   65.598106    63.056992\n",
              "2019-11-20   64.834450    63.194569\n",
              "2019-11-21   64.543762    62.968155\n",
              "...                ...          ...\n",
              "2021-11-26  156.809998   140.006470\n",
              "2021-11-29  160.240005   138.575684\n",
              "2021-11-30  165.300003   138.553131\n",
              "2021-12-01  164.770004   140.348785\n",
              "2021-12-02  163.759995   141.525162\n",
              "\n",
              "[516 rows x 2 columns]"
            ]
          },
          "metadata": {},
          "execution_count": 14
        }
      ]
    }
  ]
}